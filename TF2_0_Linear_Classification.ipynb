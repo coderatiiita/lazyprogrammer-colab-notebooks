{
  "nbformat": 4,
  "nbformat_minor": 0,
  "metadata": {
    "colab": {
      "name": "TF2.0 Linear Classification.ipynb",
      "provenance": [],
      "collapsed_sections": [],
      "authorship_tag": "ABX9TyMdulTY9Op2AMTlPO0vgD78",
      "include_colab_link": true
    },
    "kernelspec": {
      "name": "python3",
      "display_name": "Python 3"
    },
    "language_info": {
      "name": "python"
    }
  },
  "cells": [
    {
      "cell_type": "markdown",
      "metadata": {
        "id": "view-in-github",
        "colab_type": "text"
      },
      "source": [
        "<a href=\"https://colab.research.google.com/github/shubhvash/lazyprogrammer-colab-notebooks/blob/main/TF2_0_Linear_Classification.ipynb\" target=\"_parent\"><img src=\"https://colab.research.google.com/assets/colab-badge.svg\" alt=\"Open In Colab\"/></a>"
      ]
    },
    {
      "cell_type": "code",
      "execution_count": 1,
      "metadata": {
        "colab": {
          "base_uri": "https://localhost:8080/"
        },
        "id": "Hc1MfkJCUYX1",
        "outputId": "f1a4b491-ebee-49bf-8a0d-c334d941e3dd"
      },
      "outputs": [
        {
          "output_type": "stream",
          "name": "stdout",
          "text": [
            "2.8.0\n"
          ]
        }
      ],
      "source": [
        "try:\n",
        "  %tensorflow_version 2.x \n",
        "except Exception:\n",
        "  pass\n",
        "\n",
        "import tensorflow as tf\n",
        "print(tf.__version__)"
      ]
    },
    {
      "cell_type": "code",
      "source": [
        "from sklearn.datasets import load_breast_cancer"
      ],
      "metadata": {
        "id": "qKrJmE-FU5dX"
      },
      "execution_count": 2,
      "outputs": []
    },
    {
      "cell_type": "code",
      "source": [
        "data = load_breast_cancer()"
      ],
      "metadata": {
        "id": "z-8cuDQcVEd4"
      },
      "execution_count": 3,
      "outputs": []
    },
    {
      "cell_type": "code",
      "source": [
        "type(data)"
      ],
      "metadata": {
        "colab": {
          "base_uri": "https://localhost:8080/"
        },
        "id": "bLqG-isdVHn9",
        "outputId": "81a5add8-80c4-4ea5-aa12-f60b8bc81f51"
      },
      "execution_count": 4,
      "outputs": [
        {
          "output_type": "execute_result",
          "data": {
            "text/plain": [
              "sklearn.utils.Bunch"
            ]
          },
          "metadata": {},
          "execution_count": 4
        }
      ]
    },
    {
      "cell_type": "code",
      "source": [
        "data.keys()"
      ],
      "metadata": {
        "colab": {
          "base_uri": "https://localhost:8080/"
        },
        "id": "44D9VReRVJx_",
        "outputId": "4cb91747-9bec-4c46-a19f-2d6b06722aed"
      },
      "execution_count": 5,
      "outputs": [
        {
          "output_type": "execute_result",
          "data": {
            "text/plain": [
              "dict_keys(['data', 'target', 'frame', 'target_names', 'DESCR', 'feature_names', 'filename', 'data_module'])"
            ]
          },
          "metadata": {},
          "execution_count": 5
        }
      ]
    },
    {
      "cell_type": "code",
      "source": [
        "data.data.shape"
      ],
      "metadata": {
        "colab": {
          "base_uri": "https://localhost:8080/"
        },
        "id": "9bxTv1E1VUTw",
        "outputId": "2722a86d-6974-4550-f5cd-2cfd21003add"
      },
      "execution_count": 6,
      "outputs": [
        {
          "output_type": "execute_result",
          "data": {
            "text/plain": [
              "(569, 30)"
            ]
          },
          "metadata": {},
          "execution_count": 6
        }
      ]
    },
    {
      "cell_type": "code",
      "source": [
        "data.target"
      ],
      "metadata": {
        "colab": {
          "base_uri": "https://localhost:8080/"
        },
        "id": "TymBBGgBVadH",
        "outputId": "0b3d3120-264a-4b12-f9a5-2c61408f8eaa"
      },
      "execution_count": 7,
      "outputs": [
        {
          "output_type": "execute_result",
          "data": {
            "text/plain": [
              "array([0, 0, 0, 0, 0, 0, 0, 0, 0, 0, 0, 0, 0, 0, 0, 0, 0, 0, 0, 1, 1, 1,\n",
              "       0, 0, 0, 0, 0, 0, 0, 0, 0, 0, 0, 0, 0, 0, 0, 1, 0, 0, 0, 0, 0, 0,\n",
              "       0, 0, 1, 0, 1, 1, 1, 1, 1, 0, 0, 1, 0, 0, 1, 1, 1, 1, 0, 1, 0, 0,\n",
              "       1, 1, 1, 1, 0, 1, 0, 0, 1, 0, 1, 0, 0, 1, 1, 1, 0, 0, 1, 0, 0, 0,\n",
              "       1, 1, 1, 0, 1, 1, 0, 0, 1, 1, 1, 0, 0, 1, 1, 1, 1, 0, 1, 1, 0, 1,\n",
              "       1, 1, 1, 1, 1, 1, 1, 0, 0, 0, 1, 0, 0, 1, 1, 1, 0, 0, 1, 0, 1, 0,\n",
              "       0, 1, 0, 0, 1, 1, 0, 1, 1, 0, 1, 1, 1, 1, 0, 1, 1, 1, 1, 1, 1, 1,\n",
              "       1, 1, 0, 1, 1, 1, 1, 0, 0, 1, 0, 1, 1, 0, 0, 1, 1, 0, 0, 1, 1, 1,\n",
              "       1, 0, 1, 1, 0, 0, 0, 1, 0, 1, 0, 1, 1, 1, 0, 1, 1, 0, 0, 1, 0, 0,\n",
              "       0, 0, 1, 0, 0, 0, 1, 0, 1, 0, 1, 1, 0, 1, 0, 0, 0, 0, 1, 1, 0, 0,\n",
              "       1, 1, 1, 0, 1, 1, 1, 1, 1, 0, 0, 1, 1, 0, 1, 1, 0, 0, 1, 0, 1, 1,\n",
              "       1, 1, 0, 1, 1, 1, 1, 1, 0, 1, 0, 0, 0, 0, 0, 0, 0, 0, 0, 0, 0, 0,\n",
              "       0, 0, 1, 1, 1, 1, 1, 1, 0, 1, 0, 1, 1, 0, 1, 1, 0, 1, 0, 0, 1, 1,\n",
              "       1, 1, 1, 1, 1, 1, 1, 1, 1, 1, 1, 0, 1, 1, 0, 1, 0, 1, 1, 1, 1, 1,\n",
              "       1, 1, 1, 1, 1, 1, 1, 1, 1, 0, 1, 1, 1, 0, 1, 0, 1, 1, 1, 1, 0, 0,\n",
              "       0, 1, 1, 1, 1, 0, 1, 0, 1, 0, 1, 1, 1, 0, 1, 1, 1, 1, 1, 1, 1, 0,\n",
              "       0, 0, 1, 1, 1, 1, 1, 1, 1, 1, 1, 1, 1, 0, 0, 1, 0, 0, 0, 1, 0, 0,\n",
              "       1, 1, 1, 1, 1, 0, 1, 1, 1, 1, 1, 0, 1, 1, 1, 0, 1, 1, 0, 0, 1, 1,\n",
              "       1, 1, 1, 1, 0, 1, 1, 1, 1, 1, 1, 1, 0, 1, 1, 1, 1, 1, 0, 1, 1, 0,\n",
              "       1, 1, 1, 1, 1, 1, 1, 1, 1, 1, 1, 1, 0, 1, 0, 0, 1, 0, 1, 1, 1, 1,\n",
              "       1, 0, 1, 1, 0, 1, 0, 1, 1, 0, 1, 0, 1, 1, 1, 1, 1, 1, 1, 1, 0, 0,\n",
              "       1, 1, 1, 1, 1, 1, 0, 1, 1, 1, 1, 1, 1, 1, 1, 1, 1, 0, 1, 1, 1, 1,\n",
              "       1, 1, 1, 0, 1, 0, 1, 1, 0, 1, 1, 1, 1, 1, 0, 0, 1, 0, 1, 0, 1, 1,\n",
              "       1, 1, 1, 0, 1, 1, 0, 1, 0, 1, 0, 0, 1, 1, 1, 0, 1, 1, 1, 1, 1, 1,\n",
              "       1, 1, 1, 1, 1, 0, 1, 0, 0, 1, 1, 1, 1, 1, 1, 1, 1, 1, 1, 1, 1, 1,\n",
              "       1, 1, 1, 1, 1, 1, 1, 1, 1, 1, 1, 1, 0, 0, 0, 0, 0, 0, 1])"
            ]
          },
          "metadata": {},
          "execution_count": 7
        }
      ]
    },
    {
      "cell_type": "code",
      "source": [
        "data.target_names"
      ],
      "metadata": {
        "colab": {
          "base_uri": "https://localhost:8080/"
        },
        "id": "Hu8nKcLTVjE6",
        "outputId": "b84ff3db-8f84-43c4-efeb-e3ce8922a9d4"
      },
      "execution_count": 9,
      "outputs": [
        {
          "output_type": "execute_result",
          "data": {
            "text/plain": [
              "array(['malignant', 'benign'], dtype='<U9')"
            ]
          },
          "metadata": {},
          "execution_count": 9
        }
      ]
    },
    {
      "cell_type": "code",
      "source": [
        "data.target.shape"
      ],
      "metadata": {
        "colab": {
          "base_uri": "https://localhost:8080/"
        },
        "id": "Yc3yML5FVo1a",
        "outputId": "47a68ecb-961c-494d-b37e-f99aede64cc1"
      },
      "execution_count": 10,
      "outputs": [
        {
          "output_type": "execute_result",
          "data": {
            "text/plain": [
              "(569,)"
            ]
          },
          "metadata": {},
          "execution_count": 10
        }
      ]
    },
    {
      "cell_type": "code",
      "source": [
        "data.feature_names"
      ],
      "metadata": {
        "colab": {
          "base_uri": "https://localhost:8080/"
        },
        "id": "ocduORYZVuML",
        "outputId": "35f0bc8f-4881-4eb9-a098-74302d12cf38"
      },
      "execution_count": 11,
      "outputs": [
        {
          "output_type": "execute_result",
          "data": {
            "text/plain": [
              "array(['mean radius', 'mean texture', 'mean perimeter', 'mean area',\n",
              "       'mean smoothness', 'mean compactness', 'mean concavity',\n",
              "       'mean concave points', 'mean symmetry', 'mean fractal dimension',\n",
              "       'radius error', 'texture error', 'perimeter error', 'area error',\n",
              "       'smoothness error', 'compactness error', 'concavity error',\n",
              "       'concave points error', 'symmetry error',\n",
              "       'fractal dimension error', 'worst radius', 'worst texture',\n",
              "       'worst perimeter', 'worst area', 'worst smoothness',\n",
              "       'worst compactness', 'worst concavity', 'worst concave points',\n",
              "       'worst symmetry', 'worst fractal dimension'], dtype='<U23')"
            ]
          },
          "metadata": {},
          "execution_count": 11
        }
      ]
    },
    {
      "cell_type": "code",
      "source": [
        "from sklearn.model_selection import train_test_split\n",
        "\n",
        "X_train, X_test, y_train, y_test = train_test_split(data.data, data.target, test_size=0.33)\n",
        "N, D = X_train.shape"
      ],
      "metadata": {
        "id": "DjQTzHTJVzQ9"
      },
      "execution_count": 16,
      "outputs": []
    },
    {
      "cell_type": "code",
      "source": [
        "from sklearn.preprocessing import StandardScaler\n",
        "\n",
        "scaler = StandardScaler()\n",
        "X_train = scaler.fit_transform(X_train)\n",
        "X_test = scaler.transform(X_test)"
      ],
      "metadata": {
        "id": "gdc6zr2DWcyv"
      },
      "execution_count": 17,
      "outputs": []
    },
    {
      "cell_type": "code",
      "source": [
        "model = tf.keras.models.Sequential([\n",
        "  tf.keras.layers.Input(shape=(D,)),\n",
        "  tf.keras.layers.Dense(1, activation='sigmoid')\n",
        "])\n",
        "\n",
        "model.compile(optimizer='adam', loss='binary_crossentropy', metrics=['accuracy'])\n",
        "\n",
        "r = model.fit(X_train, y_train, validation_data=(X_test, y_test), epochs=100)\n",
        "\n",
        "print(\"Train score: \", model.evaluate(X_train, y_train))\n",
        "print(\"Test score: \", model.evaluate(X_test, y_test))"
      ],
      "metadata": {
        "colab": {
          "base_uri": "https://localhost:8080/"
        },
        "id": "5aJgfSShWnvd",
        "outputId": "2886e097-d5d4-41c3-f39e-143915604d27"
      },
      "execution_count": 19,
      "outputs": [
        {
          "output_type": "stream",
          "name": "stdout",
          "text": [
            "Epoch 1/100\n",
            "12/12 [==============================] - 1s 31ms/step - loss: 0.7143 - accuracy: 0.6115 - val_loss: 0.6226 - val_accuracy: 0.6596\n",
            "Epoch 2/100\n",
            "12/12 [==============================] - 0s 7ms/step - loss: 0.6568 - accuracy: 0.6588 - val_loss: 0.5628 - val_accuracy: 0.7021\n",
            "Epoch 3/100\n",
            "12/12 [==============================] - 0s 6ms/step - loss: 0.6062 - accuracy: 0.7113 - val_loss: 0.5119 - val_accuracy: 0.7660\n",
            "Epoch 4/100\n",
            "12/12 [==============================] - 0s 7ms/step - loss: 0.5612 - accuracy: 0.7480 - val_loss: 0.4691 - val_accuracy: 0.7926\n",
            "Epoch 5/100\n",
            "12/12 [==============================] - 0s 8ms/step - loss: 0.5223 - accuracy: 0.7900 - val_loss: 0.4316 - val_accuracy: 0.8298\n",
            "Epoch 6/100\n",
            "12/12 [==============================] - 0s 7ms/step - loss: 0.4876 - accuracy: 0.8136 - val_loss: 0.3999 - val_accuracy: 0.8564\n",
            "Epoch 7/100\n",
            "12/12 [==============================] - 0s 7ms/step - loss: 0.4567 - accuracy: 0.8268 - val_loss: 0.3723 - val_accuracy: 0.8989\n",
            "Epoch 8/100\n",
            "12/12 [==============================] - 0s 7ms/step - loss: 0.4294 - accuracy: 0.8373 - val_loss: 0.3483 - val_accuracy: 0.8989\n",
            "Epoch 9/100\n",
            "12/12 [==============================] - 0s 8ms/step - loss: 0.4049 - accuracy: 0.8556 - val_loss: 0.3273 - val_accuracy: 0.9043\n",
            "Epoch 10/100\n",
            "12/12 [==============================] - 0s 8ms/step - loss: 0.3834 - accuracy: 0.8714 - val_loss: 0.3091 - val_accuracy: 0.9043\n",
            "Epoch 11/100\n",
            "12/12 [==============================] - 0s 8ms/step - loss: 0.3633 - accuracy: 0.8819 - val_loss: 0.2925 - val_accuracy: 0.9149\n",
            "Epoch 12/100\n",
            "12/12 [==============================] - 0s 11ms/step - loss: 0.3455 - accuracy: 0.8819 - val_loss: 0.2783 - val_accuracy: 0.9149\n",
            "Epoch 13/100\n",
            "12/12 [==============================] - 0s 7ms/step - loss: 0.3291 - accuracy: 0.8898 - val_loss: 0.2655 - val_accuracy: 0.9202\n",
            "Epoch 14/100\n",
            "12/12 [==============================] - 0s 8ms/step - loss: 0.3144 - accuracy: 0.8950 - val_loss: 0.2541 - val_accuracy: 0.9202\n",
            "Epoch 15/100\n",
            "12/12 [==============================] - 0s 7ms/step - loss: 0.3011 - accuracy: 0.9055 - val_loss: 0.2438 - val_accuracy: 0.9255\n",
            "Epoch 16/100\n",
            "12/12 [==============================] - 0s 7ms/step - loss: 0.2889 - accuracy: 0.9081 - val_loss: 0.2345 - val_accuracy: 0.9362\n",
            "Epoch 17/100\n",
            "12/12 [==============================] - 0s 7ms/step - loss: 0.2774 - accuracy: 0.9160 - val_loss: 0.2263 - val_accuracy: 0.9415\n",
            "Epoch 18/100\n",
            "12/12 [==============================] - 0s 8ms/step - loss: 0.2674 - accuracy: 0.9291 - val_loss: 0.2186 - val_accuracy: 0.9415\n",
            "Epoch 19/100\n",
            "12/12 [==============================] - 0s 8ms/step - loss: 0.2578 - accuracy: 0.9318 - val_loss: 0.2119 - val_accuracy: 0.9468\n",
            "Epoch 20/100\n",
            "12/12 [==============================] - 0s 7ms/step - loss: 0.2490 - accuracy: 0.9318 - val_loss: 0.2057 - val_accuracy: 0.9468\n",
            "Epoch 21/100\n",
            "12/12 [==============================] - 0s 8ms/step - loss: 0.2410 - accuracy: 0.9318 - val_loss: 0.2000 - val_accuracy: 0.9468\n",
            "Epoch 22/100\n",
            "12/12 [==============================] - 0s 7ms/step - loss: 0.2334 - accuracy: 0.9344 - val_loss: 0.1948 - val_accuracy: 0.9521\n",
            "Epoch 23/100\n",
            "12/12 [==============================] - 0s 7ms/step - loss: 0.2264 - accuracy: 0.9344 - val_loss: 0.1899 - val_accuracy: 0.9521\n",
            "Epoch 24/100\n",
            "12/12 [==============================] - 0s 8ms/step - loss: 0.2201 - accuracy: 0.9344 - val_loss: 0.1854 - val_accuracy: 0.9521\n",
            "Epoch 25/100\n",
            "12/12 [==============================] - 0s 7ms/step - loss: 0.2140 - accuracy: 0.9370 - val_loss: 0.1813 - val_accuracy: 0.9521\n",
            "Epoch 26/100\n",
            "12/12 [==============================] - 0s 7ms/step - loss: 0.2085 - accuracy: 0.9396 - val_loss: 0.1774 - val_accuracy: 0.9521\n",
            "Epoch 27/100\n",
            "12/12 [==============================] - 0s 7ms/step - loss: 0.2032 - accuracy: 0.9475 - val_loss: 0.1738 - val_accuracy: 0.9521\n",
            "Epoch 28/100\n",
            "12/12 [==============================] - 0s 7ms/step - loss: 0.1982 - accuracy: 0.9475 - val_loss: 0.1704 - val_accuracy: 0.9521\n",
            "Epoch 29/100\n",
            "12/12 [==============================] - 0s 7ms/step - loss: 0.1937 - accuracy: 0.9528 - val_loss: 0.1673 - val_accuracy: 0.9521\n",
            "Epoch 30/100\n",
            "12/12 [==============================] - 0s 7ms/step - loss: 0.1893 - accuracy: 0.9580 - val_loss: 0.1643 - val_accuracy: 0.9521\n",
            "Epoch 31/100\n",
            "12/12 [==============================] - 0s 6ms/step - loss: 0.1852 - accuracy: 0.9606 - val_loss: 0.1616 - val_accuracy: 0.9521\n",
            "Epoch 32/100\n",
            "12/12 [==============================] - 0s 21ms/step - loss: 0.1813 - accuracy: 0.9606 - val_loss: 0.1589 - val_accuracy: 0.9521\n",
            "Epoch 33/100\n",
            "12/12 [==============================] - 0s 20ms/step - loss: 0.1777 - accuracy: 0.9633 - val_loss: 0.1564 - val_accuracy: 0.9521\n",
            "Epoch 34/100\n",
            "12/12 [==============================] - 0s 20ms/step - loss: 0.1742 - accuracy: 0.9633 - val_loss: 0.1540 - val_accuracy: 0.9521\n",
            "Epoch 35/100\n",
            "12/12 [==============================] - 0s 16ms/step - loss: 0.1710 - accuracy: 0.9633 - val_loss: 0.1519 - val_accuracy: 0.9521\n",
            "Epoch 36/100\n",
            "12/12 [==============================] - 0s 15ms/step - loss: 0.1679 - accuracy: 0.9633 - val_loss: 0.1497 - val_accuracy: 0.9521\n",
            "Epoch 37/100\n",
            "12/12 [==============================] - 0s 12ms/step - loss: 0.1648 - accuracy: 0.9633 - val_loss: 0.1478 - val_accuracy: 0.9574\n",
            "Epoch 38/100\n",
            "12/12 [==============================] - 0s 8ms/step - loss: 0.1620 - accuracy: 0.9633 - val_loss: 0.1459 - val_accuracy: 0.9574\n",
            "Epoch 39/100\n",
            "12/12 [==============================] - 0s 7ms/step - loss: 0.1594 - accuracy: 0.9633 - val_loss: 0.1441 - val_accuracy: 0.9574\n",
            "Epoch 40/100\n",
            "12/12 [==============================] - 0s 7ms/step - loss: 0.1567 - accuracy: 0.9633 - val_loss: 0.1423 - val_accuracy: 0.9574\n",
            "Epoch 41/100\n",
            "12/12 [==============================] - 0s 7ms/step - loss: 0.1543 - accuracy: 0.9659 - val_loss: 0.1407 - val_accuracy: 0.9574\n",
            "Epoch 42/100\n",
            "12/12 [==============================] - 0s 7ms/step - loss: 0.1519 - accuracy: 0.9633 - val_loss: 0.1391 - val_accuracy: 0.9574\n",
            "Epoch 43/100\n",
            "12/12 [==============================] - 0s 7ms/step - loss: 0.1497 - accuracy: 0.9659 - val_loss: 0.1376 - val_accuracy: 0.9574\n",
            "Epoch 44/100\n",
            "12/12 [==============================] - 0s 7ms/step - loss: 0.1475 - accuracy: 0.9685 - val_loss: 0.1362 - val_accuracy: 0.9574\n",
            "Epoch 45/100\n",
            "12/12 [==============================] - 0s 7ms/step - loss: 0.1454 - accuracy: 0.9685 - val_loss: 0.1348 - val_accuracy: 0.9574\n",
            "Epoch 46/100\n",
            "12/12 [==============================] - 0s 9ms/step - loss: 0.1434 - accuracy: 0.9685 - val_loss: 0.1334 - val_accuracy: 0.9574\n",
            "Epoch 47/100\n",
            "12/12 [==============================] - 0s 8ms/step - loss: 0.1415 - accuracy: 0.9711 - val_loss: 0.1322 - val_accuracy: 0.9574\n",
            "Epoch 48/100\n",
            "12/12 [==============================] - 0s 10ms/step - loss: 0.1397 - accuracy: 0.9711 - val_loss: 0.1310 - val_accuracy: 0.9574\n",
            "Epoch 49/100\n",
            "12/12 [==============================] - 0s 8ms/step - loss: 0.1379 - accuracy: 0.9764 - val_loss: 0.1299 - val_accuracy: 0.9574\n",
            "Epoch 50/100\n",
            "12/12 [==============================] - 0s 7ms/step - loss: 0.1362 - accuracy: 0.9764 - val_loss: 0.1287 - val_accuracy: 0.9574\n",
            "Epoch 51/100\n",
            "12/12 [==============================] - 0s 7ms/step - loss: 0.1345 - accuracy: 0.9764 - val_loss: 0.1276 - val_accuracy: 0.9574\n",
            "Epoch 52/100\n",
            "12/12 [==============================] - 0s 7ms/step - loss: 0.1329 - accuracy: 0.9764 - val_loss: 0.1265 - val_accuracy: 0.9574\n",
            "Epoch 53/100\n",
            "12/12 [==============================] - 0s 8ms/step - loss: 0.1313 - accuracy: 0.9764 - val_loss: 0.1255 - val_accuracy: 0.9574\n",
            "Epoch 54/100\n",
            "12/12 [==============================] - 0s 7ms/step - loss: 0.1298 - accuracy: 0.9764 - val_loss: 0.1245 - val_accuracy: 0.9574\n",
            "Epoch 55/100\n",
            "12/12 [==============================] - 0s 8ms/step - loss: 0.1283 - accuracy: 0.9764 - val_loss: 0.1236 - val_accuracy: 0.9574\n",
            "Epoch 56/100\n",
            "12/12 [==============================] - 0s 9ms/step - loss: 0.1270 - accuracy: 0.9764 - val_loss: 0.1227 - val_accuracy: 0.9574\n",
            "Epoch 57/100\n",
            "12/12 [==============================] - 0s 7ms/step - loss: 0.1255 - accuracy: 0.9764 - val_loss: 0.1218 - val_accuracy: 0.9574\n",
            "Epoch 58/100\n",
            "12/12 [==============================] - 0s 7ms/step - loss: 0.1242 - accuracy: 0.9764 - val_loss: 0.1210 - val_accuracy: 0.9574\n",
            "Epoch 59/100\n",
            "12/12 [==============================] - 0s 8ms/step - loss: 0.1230 - accuracy: 0.9764 - val_loss: 0.1202 - val_accuracy: 0.9574\n",
            "Epoch 60/100\n",
            "12/12 [==============================] - 0s 7ms/step - loss: 0.1217 - accuracy: 0.9764 - val_loss: 0.1194 - val_accuracy: 0.9628\n",
            "Epoch 61/100\n",
            "12/12 [==============================] - 0s 7ms/step - loss: 0.1205 - accuracy: 0.9764 - val_loss: 0.1186 - val_accuracy: 0.9628\n",
            "Epoch 62/100\n",
            "12/12 [==============================] - 0s 8ms/step - loss: 0.1193 - accuracy: 0.9764 - val_loss: 0.1178 - val_accuracy: 0.9628\n",
            "Epoch 63/100\n",
            "12/12 [==============================] - 0s 7ms/step - loss: 0.1181 - accuracy: 0.9764 - val_loss: 0.1171 - val_accuracy: 0.9628\n",
            "Epoch 64/100\n",
            "12/12 [==============================] - 0s 7ms/step - loss: 0.1170 - accuracy: 0.9764 - val_loss: 0.1165 - val_accuracy: 0.9628\n",
            "Epoch 65/100\n",
            "12/12 [==============================] - 0s 7ms/step - loss: 0.1159 - accuracy: 0.9764 - val_loss: 0.1158 - val_accuracy: 0.9628\n",
            "Epoch 66/100\n",
            "12/12 [==============================] - 0s 8ms/step - loss: 0.1149 - accuracy: 0.9764 - val_loss: 0.1151 - val_accuracy: 0.9628\n",
            "Epoch 67/100\n",
            "12/12 [==============================] - 0s 10ms/step - loss: 0.1139 - accuracy: 0.9764 - val_loss: 0.1145 - val_accuracy: 0.9628\n",
            "Epoch 68/100\n",
            "12/12 [==============================] - 0s 7ms/step - loss: 0.1128 - accuracy: 0.9764 - val_loss: 0.1138 - val_accuracy: 0.9628\n",
            "Epoch 69/100\n",
            "12/12 [==============================] - 0s 7ms/step - loss: 0.1118 - accuracy: 0.9790 - val_loss: 0.1133 - val_accuracy: 0.9628\n",
            "Epoch 70/100\n",
            "12/12 [==============================] - 0s 8ms/step - loss: 0.1109 - accuracy: 0.9790 - val_loss: 0.1127 - val_accuracy: 0.9628\n",
            "Epoch 71/100\n",
            "12/12 [==============================] - 0s 8ms/step - loss: 0.1100 - accuracy: 0.9790 - val_loss: 0.1121 - val_accuracy: 0.9628\n",
            "Epoch 72/100\n",
            "12/12 [==============================] - 0s 7ms/step - loss: 0.1090 - accuracy: 0.9790 - val_loss: 0.1116 - val_accuracy: 0.9628\n",
            "Epoch 73/100\n",
            "12/12 [==============================] - 0s 7ms/step - loss: 0.1082 - accuracy: 0.9790 - val_loss: 0.1110 - val_accuracy: 0.9681\n",
            "Epoch 74/100\n",
            "12/12 [==============================] - 0s 7ms/step - loss: 0.1073 - accuracy: 0.9790 - val_loss: 0.1106 - val_accuracy: 0.9681\n",
            "Epoch 75/100\n",
            "12/12 [==============================] - 0s 7ms/step - loss: 0.1065 - accuracy: 0.9790 - val_loss: 0.1100 - val_accuracy: 0.9681\n",
            "Epoch 76/100\n",
            "12/12 [==============================] - 0s 7ms/step - loss: 0.1056 - accuracy: 0.9790 - val_loss: 0.1096 - val_accuracy: 0.9681\n",
            "Epoch 77/100\n",
            "12/12 [==============================] - 0s 7ms/step - loss: 0.1048 - accuracy: 0.9816 - val_loss: 0.1091 - val_accuracy: 0.9681\n",
            "Epoch 78/100\n",
            "12/12 [==============================] - 0s 9ms/step - loss: 0.1040 - accuracy: 0.9816 - val_loss: 0.1086 - val_accuracy: 0.9681\n",
            "Epoch 79/100\n",
            "12/12 [==============================] - 0s 7ms/step - loss: 0.1032 - accuracy: 0.9816 - val_loss: 0.1081 - val_accuracy: 0.9681\n",
            "Epoch 80/100\n",
            "12/12 [==============================] - 0s 7ms/step - loss: 0.1025 - accuracy: 0.9816 - val_loss: 0.1077 - val_accuracy: 0.9681\n",
            "Epoch 81/100\n",
            "12/12 [==============================] - 0s 8ms/step - loss: 0.1017 - accuracy: 0.9816 - val_loss: 0.1073 - val_accuracy: 0.9681\n",
            "Epoch 82/100\n",
            "12/12 [==============================] - 0s 7ms/step - loss: 0.1010 - accuracy: 0.9816 - val_loss: 0.1069 - val_accuracy: 0.9681\n",
            "Epoch 83/100\n",
            "12/12 [==============================] - 0s 7ms/step - loss: 0.1003 - accuracy: 0.9816 - val_loss: 0.1065 - val_accuracy: 0.9681\n",
            "Epoch 84/100\n",
            "12/12 [==============================] - 0s 9ms/step - loss: 0.0996 - accuracy: 0.9816 - val_loss: 0.1061 - val_accuracy: 0.9681\n",
            "Epoch 85/100\n",
            "12/12 [==============================] - 0s 7ms/step - loss: 0.0989 - accuracy: 0.9816 - val_loss: 0.1056 - val_accuracy: 0.9734\n",
            "Epoch 86/100\n",
            "12/12 [==============================] - 0s 7ms/step - loss: 0.0982 - accuracy: 0.9816 - val_loss: 0.1053 - val_accuracy: 0.9734\n",
            "Epoch 87/100\n",
            "12/12 [==============================] - 0s 7ms/step - loss: 0.0976 - accuracy: 0.9816 - val_loss: 0.1049 - val_accuracy: 0.9734\n",
            "Epoch 88/100\n",
            "12/12 [==============================] - 0s 7ms/step - loss: 0.0969 - accuracy: 0.9816 - val_loss: 0.1045 - val_accuracy: 0.9734\n",
            "Epoch 89/100\n",
            "12/12 [==============================] - 0s 7ms/step - loss: 0.0963 - accuracy: 0.9816 - val_loss: 0.1042 - val_accuracy: 0.9734\n",
            "Epoch 90/100\n",
            "12/12 [==============================] - 0s 7ms/step - loss: 0.0957 - accuracy: 0.9816 - val_loss: 0.1039 - val_accuracy: 0.9734\n",
            "Epoch 91/100\n",
            "12/12 [==============================] - 0s 7ms/step - loss: 0.0950 - accuracy: 0.9816 - val_loss: 0.1035 - val_accuracy: 0.9734\n",
            "Epoch 92/100\n",
            "12/12 [==============================] - 0s 7ms/step - loss: 0.0945 - accuracy: 0.9816 - val_loss: 0.1032 - val_accuracy: 0.9734\n",
            "Epoch 93/100\n",
            "12/12 [==============================] - 0s 7ms/step - loss: 0.0939 - accuracy: 0.9816 - val_loss: 0.1029 - val_accuracy: 0.9734\n",
            "Epoch 94/100\n",
            "12/12 [==============================] - 0s 7ms/step - loss: 0.0933 - accuracy: 0.9816 - val_loss: 0.1026 - val_accuracy: 0.9734\n",
            "Epoch 95/100\n",
            "12/12 [==============================] - 0s 7ms/step - loss: 0.0927 - accuracy: 0.9816 - val_loss: 0.1023 - val_accuracy: 0.9734\n",
            "Epoch 96/100\n",
            "12/12 [==============================] - 0s 7ms/step - loss: 0.0922 - accuracy: 0.9816 - val_loss: 0.1019 - val_accuracy: 0.9734\n",
            "Epoch 97/100\n",
            "12/12 [==============================] - 0s 7ms/step - loss: 0.0916 - accuracy: 0.9816 - val_loss: 0.1016 - val_accuracy: 0.9787\n",
            "Epoch 98/100\n",
            "12/12 [==============================] - 0s 7ms/step - loss: 0.0911 - accuracy: 0.9816 - val_loss: 0.1014 - val_accuracy: 0.9787\n",
            "Epoch 99/100\n",
            "12/12 [==============================] - 0s 7ms/step - loss: 0.0906 - accuracy: 0.9816 - val_loss: 0.1011 - val_accuracy: 0.9787\n",
            "Epoch 100/100\n",
            "12/12 [==============================] - 0s 7ms/step - loss: 0.0900 - accuracy: 0.9843 - val_loss: 0.1008 - val_accuracy: 0.9787\n",
            "12/12 [==============================] - 0s 2ms/step - loss: 0.0897 - accuracy: 0.9843\n",
            "Train score:  [0.08972523361444473, 0.9842519760131836]\n",
            "6/6 [==============================] - 0s 5ms/step - loss: 0.1008 - accuracy: 0.9787\n",
            "Test score:  [0.10084673762321472, 0.978723406791687]\n"
          ]
        }
      ]
    },
    {
      "cell_type": "code",
      "source": [
        "import matplotlib.pyplot as plt\n",
        "plt.plot(r.history['loss'], label='loss')\n",
        "plt.plot(r.history['val_loss'], label='val_loss')\n",
        "plt.legend()"
      ],
      "metadata": {
        "colab": {
          "base_uri": "https://localhost:8080/",
          "height": 283
        },
        "id": "cqUo-hIZX3Dg",
        "outputId": "3b758c10-8e8b-4412-c48e-af179d2bc074"
      },
      "execution_count": 20,
      "outputs": [
        {
          "output_type": "execute_result",
          "data": {
            "text/plain": [
              "<matplotlib.legend.Legend at 0x7f8cba9ab6d0>"
            ]
          },
          "metadata": {},
          "execution_count": 20
        },
        {
          "output_type": "display_data",
          "data": {
            "text/plain": [
              "<Figure size 432x288 with 1 Axes>"
            ],
            "image/png": "[encoded data removed]"
          },
          "metadata": {
            "needs_background": "light"
          }
        }
      ]
    },
    {
      "cell_type": "code",
      "source": [
        "plt.plot(r.history['accuracy'], label='acc')\n",
        "plt.plot(r.history['val_accuracy'], label='val_acc')\n",
        "plt.legend()"
      ],
      "metadata": {
        "colab": {
          "base_uri": "https://localhost:8080/",
          "height": 286
        },
        "id": "gby1Si-GZN9h",
        "outputId": "c9209098-e304-40f4-cd69-b33e912af3ae"
      },
      "execution_count": 21,
      "outputs": [
        {
          "output_type": "execute_result",
          "data": {
            "text/plain": [
              "<matplotlib.legend.Legend at 0x7f8cb2060690>"
            ]
          },
          "metadata": {},
          "execution_count": 21
        },
        {
          "output_type": "display_data",
          "data": {
            "text/plain": [
              "<Figure size 432x288 with 1 Axes>"
            ],
            "image/png": "[encoded data removed]"
          },
          "metadata": {
            "needs_background": "light"
          }
        }
      ]
    },
    {
      "cell_type": "code",
      "source": [
        "P = model.predict(X_test)\n",
        "print(P)"
      ],
      "metadata": {
        "colab": {
          "base_uri": "https://localhost:8080/"
        },
        "id": "oHmrjVIoZv5I",
        "outputId": "869081fe-599d-4147-fab3-236d54d416de"
      },
      "execution_count": 24,
      "outputs": [
        {
          "output_type": "stream",
          "name": "stdout",
          "text": [
            "[[4.15139496e-01]\n",
            " [5.90978742e-01]\n",
            " [1.32104951e-05]\n",
            " [9.91492391e-01]\n",
            " [6.39631033e-01]\n",
            " [1.92988967e-08]\n",
            " [9.89802480e-01]\n",
            " [2.25335360e-03]\n",
            " [9.99875784e-01]\n",
            " [9.94956374e-01]\n",
            " [8.64160299e-01]\n",
            " [9.87687945e-01]\n",
            " [9.84816194e-01]\n",
            " [9.92176175e-01]\n",
            " [7.43093908e-01]\n",
            " [2.47362256e-02]\n",
            " [2.99698004e-05]\n",
            " [9.98517990e-01]\n",
            " [9.86834168e-01]\n",
            " [9.99333262e-01]\n",
            " [9.99003649e-01]\n",
            " [9.79507029e-01]\n",
            " [9.04633284e-01]\n",
            " [9.99111295e-01]\n",
            " [8.74668360e-04]\n",
            " [9.81396794e-01]\n",
            " [9.66223836e-01]\n",
            " [9.43990529e-01]\n",
            " [9.90930319e-01]\n",
            " [1.23192382e-04]\n",
            " [9.96896803e-01]\n",
            " [9.74531067e-05]\n",
            " [9.67625499e-01]\n",
            " [9.54955101e-01]\n",
            " [9.84430075e-01]\n",
            " [9.96623218e-01]\n",
            " [3.46678495e-03]\n",
            " [9.51733291e-01]\n",
            " [9.99513745e-01]\n",
            " [9.98444974e-01]\n",
            " [9.27482486e-01]\n",
            " [4.30771708e-01]\n",
            " [9.99167681e-01]\n",
            " [9.99844313e-01]\n",
            " [7.82159925e-01]\n",
            " [9.20140624e-01]\n",
            " [4.16855931e-01]\n",
            " [4.72950727e-01]\n",
            " [9.99492168e-01]\n",
            " [9.94506955e-01]\n",
            " [9.59715247e-01]\n",
            " [8.06366920e-01]\n",
            " [6.99093938e-03]\n",
            " [1.33067486e-08]\n",
            " [9.97887254e-01]\n",
            " [1.07372973e-04]\n",
            " [9.99705076e-01]\n",
            " [2.89433837e-01]\n",
            " [9.99869645e-01]\n",
            " [3.93219948e-01]\n",
            " [9.97122049e-01]\n",
            " [1.49776936e-02]\n",
            " [4.15691733e-03]\n",
            " [9.60100889e-02]\n",
            " [9.96100545e-01]\n",
            " [9.69871521e-01]\n",
            " [2.90899879e-06]\n",
            " [9.83152509e-01]\n",
            " [9.92007136e-01]\n",
            " [9.89501119e-01]\n",
            " [1.32676959e-03]\n",
            " [1.35627389e-03]\n",
            " [9.99867082e-01]\n",
            " [3.31103802e-04]\n",
            " [1.67027116e-03]\n",
            " [8.66543560e-05]\n",
            " [9.98059094e-01]\n",
            " [9.57974136e-01]\n",
            " [9.94331598e-01]\n",
            " [1.15795791e-01]\n",
            " [1.86355592e-05]\n",
            " [9.52698350e-01]\n",
            " [8.03637981e-01]\n",
            " [9.46471572e-01]\n",
            " [9.64617729e-01]\n",
            " [5.53981304e-01]\n",
            " [7.44640827e-03]\n",
            " [9.75661755e-01]\n",
            " [6.86528608e-07]\n",
            " [4.24534082e-04]\n",
            " [9.78339434e-01]\n",
            " [2.17831731e-02]\n",
            " [4.20749187e-04]\n",
            " [3.02839279e-03]\n",
            " [5.66442907e-02]\n",
            " [9.82429266e-01]\n",
            " [9.96970773e-01]\n",
            " [9.99276102e-01]\n",
            " [9.95034635e-01]\n",
            " [9.97922003e-01]\n",
            " [3.06167349e-05]\n",
            " [9.48308706e-01]\n",
            " [8.07851553e-04]\n",
            " [3.09966526e-06]\n",
            " [9.87933755e-01]\n",
            " [6.02703076e-05]\n",
            " [4.96425287e-07]\n",
            " [9.69589829e-01]\n",
            " [3.18069596e-07]\n",
            " [9.97029364e-01]\n",
            " [9.99817848e-01]\n",
            " [9.97116387e-01]\n",
            " [9.42821980e-01]\n",
            " [9.57392573e-01]\n",
            " [9.94120717e-01]\n",
            " [9.70961452e-01]\n",
            " [9.68058705e-01]\n",
            " [9.44985151e-01]\n",
            " [8.79696488e-01]\n",
            " [1.11365598e-05]\n",
            " [1.85638666e-04]\n",
            " [9.83588219e-01]\n",
            " [9.80687201e-01]\n",
            " [4.68061268e-01]\n",
            " [9.53646541e-01]\n",
            " [1.99854374e-04]\n",
            " [2.43405581e-01]\n",
            " [6.98849857e-02]\n",
            " [4.22567129e-04]\n",
            " [9.14480388e-01]\n",
            " [9.89846230e-01]\n",
            " [4.93153423e-01]\n",
            " [9.99391794e-01]\n",
            " [5.76734543e-03]\n",
            " [9.83538747e-01]\n",
            " [1.16972923e-02]\n",
            " [9.89983797e-01]\n",
            " [9.78637457e-01]\n",
            " [8.63849103e-01]\n",
            " [9.52021718e-01]\n",
            " [9.35025096e-01]\n",
            " [9.96569872e-01]\n",
            " [1.34723186e-01]\n",
            " [9.93255258e-01]\n",
            " [2.96294689e-03]\n",
            " [9.75204706e-01]\n",
            " [2.67243683e-02]\n",
            " [3.43456268e-02]\n",
            " [9.85684872e-01]\n",
            " [8.68177235e-01]\n",
            " [8.79363179e-01]\n",
            " [8.41514587e-01]\n",
            " [9.94930267e-01]\n",
            " [1.28338635e-02]\n",
            " [9.92094934e-01]\n",
            " [9.45831895e-01]\n",
            " [1.39927864e-03]\n",
            " [4.20093536e-04]\n",
            " [8.86091709e-01]\n",
            " [5.45933843e-03]\n",
            " [2.76169300e-01]\n",
            " [9.95487332e-01]\n",
            " [2.90358067e-03]\n",
            " [6.28298640e-01]\n",
            " [7.33268321e-01]\n",
            " [9.12750304e-01]\n",
            " [6.16520405e-01]\n",
            " [5.29620051e-03]\n",
            " [5.58793545e-04]\n",
            " [1.74106020e-07]\n",
            " [9.65742469e-01]\n",
            " [9.92504954e-01]\n",
            " [9.88884330e-01]\n",
            " [7.75661588e-01]\n",
            " [1.80649757e-03]\n",
            " [9.99785542e-01]\n",
            " [9.15703893e-01]\n",
            " [7.12693861e-07]\n",
            " [9.92496371e-01]\n",
            " [9.44144964e-01]\n",
            " [5.82617164e-01]\n",
            " [9.77134459e-06]\n",
            " [9.77739930e-01]\n",
            " [9.94923234e-01]\n",
            " [4.24553509e-05]\n",
            " [7.41136074e-03]\n",
            " [9.57973719e-01]\n",
            " [9.25964355e-01]]\n"
          ]
        }
      ]
    },
    {
      "cell_type": "code",
      "source": [
        "import numpy as np\n",
        "P = np.round(P).flatten()\n",
        "print(P)"
      ],
      "metadata": {
        "colab": {
          "base_uri": "https://localhost:8080/"
        },
        "id": "MhuCa_fyaHwL",
        "outputId": "192d05a2-8717-4409-f9f3-4c09cc0f3a5e"
      },
      "execution_count": 25,
      "outputs": [
        {
          "output_type": "stream",
          "name": "stdout",
          "text": [
            "[0. 1. 0. 1. 1. 0. 1. 0. 1. 1. 1. 1. 1. 1. 1. 0. 0. 1. 1. 1. 1. 1. 1. 1.\n",
            " 0. 1. 1. 1. 1. 0. 1. 0. 1. 1. 1. 1. 0. 1. 1. 1. 1. 0. 1. 1. 1. 1. 0. 0.\n",
            " 1. 1. 1. 1. 0. 0. 1. 0. 1. 0. 1. 0. 1. 0. 0. 0. 1. 1. 0. 1. 1. 1. 0. 0.\n",
            " 1. 0. 0. 0. 1. 1. 1. 0. 0. 1. 1. 1. 1. 1. 0. 1. 0. 0. 1. 0. 0. 0. 0. 1.\n",
            " 1. 1. 1. 1. 0. 1. 0. 0. 1. 0. 0. 1. 0. 1. 1. 1. 1. 1. 1. 1. 1. 1. 1. 0.\n",
            " 0. 1. 1. 0. 1. 0. 0. 0. 0. 1. 1. 0. 1. 0. 1. 0. 1. 1. 1. 1. 1. 1. 0. 1.\n",
            " 0. 1. 0. 0. 1. 1. 1. 1. 1. 0. 1. 1. 0. 0. 1. 0. 0. 1. 0. 1. 1. 1. 1. 0.\n",
            " 0. 0. 1. 1. 1. 1. 0. 1. 1. 0. 1. 1. 1. 0. 1. 1. 0. 0. 1. 1.]\n"
          ]
        }
      ]
    },
    {
      "cell_type": "code",
      "source": [
        "print(\"Manually calculated accuracy: \", np.mean(P == y_test))\n",
        "print(\"Evaluate output: \", model.evaluate(X_test, y_test))"
      ],
      "metadata": {
        "colab": {
          "base_uri": "https://localhost:8080/"
        },
        "id": "sbkYzHiraPMM",
        "outputId": "6587ec36-f3f8-42f1-f13e-bdc09b97eef8"
      },
      "execution_count": 26,
      "outputs": [
        {
          "output_type": "stream",
          "name": "stdout",
          "text": [
            "Manually calculated accuracy:  0.9787234042553191\n",
            "6/6 [==============================] - 0s 4ms/step - loss: 0.1008 - accuracy: 0.9787\n",
            "Evaluate output:  [0.10084673762321472, 0.978723406791687]\n"
          ]
        }
      ]
    },
    {
      "cell_type": "code",
      "source": [
        "model.save('linearclassifier.h5')"
      ],
      "metadata": {
        "id": "uWAjhAl-apE6"
      },
      "execution_count": 27,
      "outputs": []
    },
    {
      "cell_type": "code",
      "source": [
        "!ls -lh"
      ],
      "metadata": {
        "colab": {
          "base_uri": "https://localhost:8080/"
        },
        "id": "zzBFO91la1KK",
        "outputId": "ac88b096-c7f3-4fe0-a7b6-2ec2eb6c5242"
      },
      "execution_count": 28,
      "outputs": [
        {
          "output_type": "stream",
          "name": "stdout",
          "text": [
            "total 24K\n",
            "-rw-r--r-- 1 root root  19K Mar 25 18:51 linearclassifier.h5\n",
            "drwxr-xr-x 1 root root 4.0K Mar 23 14:22 sample_data\n"
          ]
        }
      ]
    },
    {
      "cell_type": "code",
      "source": [
        "model = tf.keras.models.load_model('linearclassifier.h5')\n",
        "print(model.layers)\n",
        "model.evaluate(X_test, y_test)"
      ],
      "metadata": {
        "colab": {
          "base_uri": "https://localhost:8080/"
        },
        "id": "cAYYXDCma3rp",
        "outputId": "7c97123a-98e1-49d0-baeb-8f0008d62c9d"
      },
      "execution_count": 29,
      "outputs": [
        {
          "output_type": "stream",
          "name": "stdout",
          "text": [
            "[<keras.layers.core.dense.Dense object at 0x7f8cb1f8f0d0>]\n",
            "6/6 [==============================] - 0s 4ms/step - loss: 0.1008 - accuracy: 0.9787\n"
          ]
        },
        {
          "output_type": "execute_result",
          "data": {
            "text/plain": [
              "[0.10084673762321472, 0.978723406791687]"
            ]
          },
          "metadata": {},
          "execution_count": 29
        }
      ]
    },
    {
      "cell_type": "code",
      "source": [
        "from google.colab import files\n",
        "files.download('linearclassifier.h5')"
      ],
      "metadata": {
        "colab": {
          "base_uri": "https://localhost:8080/",
          "height": 17
        },
        "id": "xGfVhE9ZbKnf",
        "outputId": "fad3ea19-0fc0-4971-e6ab-78d0de72d3d0"
      },
      "execution_count": 30,
      "outputs": [
        {
          "output_type": "display_data",
          "data": {
            "text/plain": [
              "<IPython.core.display.Javascript object>"
            ],
            "application/javascript": [
              "\n",
              "    async function download(id, filename, size) {\n",
              "      if (!google.colab.kernel.accessAllowed) {\n",
              "        return;\n",
              "      }\n",
              "      const div = document.createElement('div');\n",
              "      const label = document.createElement('label');\n",
              "      label.textContent = `Downloading \"${filename}\": `;\n",
              "      div.appendChild(label);\n",
              "      const progress = document.createElement('progress');\n",
              "      progress.max = size;\n",
              "      div.appendChild(progress);\n",
              "      document.body.appendChild(div);\n",
              "\n",
              "      const buffers = [];\n",
              "      let downloaded = 0;\n",
              "\n",
              "      const channel = await google.colab.kernel.comms.open(id);\n",
              "      // Send a message to notify the kernel that we're ready.\n",
              "      channel.send({})\n",
              "\n",
              "      for await (const message of channel.messages) {\n",
              "        // Send a message to notify the kernel that we're ready.\n",
              "        channel.send({})\n",
              "        if (message.buffers) {\n",
              "          for (const buffer of message.buffers) {\n",
              "            buffers.push(buffer);\n",
              "            downloaded += buffer.byteLength;\n",
              "            progress.value = downloaded;\n",
              "          }\n",
              "        }\n",
              "      }\n",
              "      const blob = new Blob(buffers, {type: 'application/binary'});\n",
              "      const a = document.createElement('a');\n",
              "      a.href = window.URL.createObjectURL(blob);\n",
              "      a.download = filename;\n",
              "      div.appendChild(a);\n",
              "      a.click();\n",
              "      div.remove();\n",
              "    }\n",
              "  "
            ]
          },
          "metadata": {}
        },
        {
          "output_type": "display_data",
          "data": {
            "text/plain": [
              "<IPython.core.display.Javascript object>"
            ],
            "application/javascript": [
              "download(\"download_c3aa96da-1b5f-44bd-b1b4-c22fafe79fcc\", \"linearclassifier.h5\", 19312)"
            ]
          },
          "metadata": {}
        }
      ]
    },
    {
      "cell_type": "code",
      "source": [
        ""
      ],
      "metadata": {
        "id": "vxtwKHQMbV4L"
      },
      "execution_count": null,
      "outputs": []
    }
  ]
}